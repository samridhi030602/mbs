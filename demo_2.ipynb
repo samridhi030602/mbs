{
 "cells": [
  {
   "cell_type": "code",
   "execution_count": 1,
   "id": "65817663",
   "metadata": {},
   "outputs": [],
   "source": [
    "import pandas as pd\n",
    "import os"
   ]
  },
  {
   "cell_type": "code",
   "execution_count": 2,
   "id": "4058c034",
   "metadata": {},
   "outputs": [
    {
     "data": {
      "text/plain": [
       "'c:\\\\Users\\\\DELL\\\\OneDrive\\\\Desktop\\\\project'"
      ]
     },
     "execution_count": 2,
     "metadata": {},
     "output_type": "execute_result"
    }
   ],
   "source": [
    "os.getcwd()"
   ]
  },
  {
   "cell_type": "code",
   "execution_count": 3,
   "id": "90675830",
   "metadata": {},
   "outputs": [],
   "source": [
    "dropList = [0, 2, 6, 8, 10, 14, 16, 18, 20, 24, 29, 31, 32, 33, 37, 38, 40, 41, 42, 43, 44, 45, 46, 47, 48, 49, 50, 51, 52, 53, 54, 55, 56, 57, 58, 59, 60, 61, 62, 63, 64, 65, 66, 67, 68, 69, 70, 71, 72, 73, 74, 75, 76, 77, 78, 79, 80, 81, 82, 83, 84, 85, 87, 88, 89, 90, 91, 92, 93, 94, 95, 96, 97, 98, 99, 100, 101, 103, 104, 105, 106, 107]"
   ]
  },
  {
   "cell_type": "code",
   "execution_count": 4,
   "id": "86c2541e",
   "metadata": {},
   "outputs": [
    {
     "name": "stdout",
     "output_type": "stream",
     "text": [
      "length = 82\n",
      "1 3 7 9 11 15 17 19 21 25 30 32 33 34 38 39 41 42 43 44 45 46 47 48 49 50 51 52 53 54 55 56 57 58 59 60 61 62 63 64 65 66 67 68 69 70 71 72 73 74 75 76 77 78 79 80 81 82 83 84 85 86 88 89 90 91 92 93 94 95 96 97 98 99 100 101 102 104 105 106 107 108 "
     ]
    }
   ],
   "source": [
    "print(\"length =\", len(dropList))\n",
    "for i in dropList:\n",
    "    print(i+1, end = \" \")"
   ]
  },
  {
   "cell_type": "code",
   "execution_count": 5,
   "id": "ea51f6a4",
   "metadata": {},
   "outputs": [],
   "source": [
    "header = ['Loan Identifier', 'Channel', 'Seller Name', 'Servicer Name', 'Original Interest Rate', 'Original UPB', 'Current Actual UPB', 'Original Loan Term', 'Origination Date', 'Loan Age', 'Remaining Months To Maturity', 'Original Loan to Value Ratio (LTV)', 'Number of Borrowers', 'Debt-To-Income (DTI)', 'Borrower Credit Score at Origination', 'First Time Home Buyer Indicator', 'Loan Purpose', 'Property Type', 'Number of Units', 'Property State', 'Amortization Type', 'Prepayment Penalty Indicator', 'Interest Only Loan Indicator', 'Current Loan Delinquency Status', 'High Balance Loan Indicator', 'High Loan to Value (HLTV) Refinance Option Indicator']"
   ]
  },
  {
   "cell_type": "code",
   "execution_count": 6,
   "id": "4186e88b",
   "metadata": {},
   "outputs": [
    {
     "name": "stdout",
     "output_type": "stream",
     "text": [
      "header length = 26\n",
      "2 ) Loan Identifier\n",
      "4 ) Channel\n",
      "5 ) Seller Name\n",
      "6 ) Servicer Name\n",
      "8 ) Original Interest Rate\n",
      "10 ) Original UPB\n",
      "12 ) Current Actual UPB\n",
      "13 ) Original Loan Term\n",
      "14 ) Origination Date\n",
      "16 ) Loan Age\n",
      "18 ) Remaining Months To Maturity\n",
      "20 ) Original Loan to Value Ratio (LTV)\n",
      "22 ) Number of Borrowers\n",
      "23 ) Debt-To-Income (DTI)\n",
      "24 ) Borrower Credit Score at Origination\n",
      "26 ) First Time Home Buyer Indicator\n",
      "27 ) Loan Purpose\n",
      "28 ) Property Type\n",
      "29 ) Number of Units\n",
      "31 ) Property State\n",
      "35 ) Amortization Type\n",
      "36 ) Prepayment Penalty Indicator\n",
      "37 ) Interest Only Loan Indicator\n",
      "40 ) Current Loan Delinquency Status\n",
      "87 ) High Balance Loan Indicator\n",
      "103 ) High Loan to Value (HLTV) Refinance Option Indicator\n"
     ]
    }
   ],
   "source": [
    "print(\"header length =\", len(header))\n",
    "leftList = []\n",
    "for i in range(0, 108):\n",
    "    if i not in dropList:\n",
    "        leftList.append(i)\n",
    "\n",
    "for i in range(len(leftList)):\n",
    "    print(leftList[i]+1, \")\", header[i])\n"
   ]
  },
  {
   "cell_type": "code",
   "execution_count": 7,
   "id": "b6ad15f6",
   "metadata": {},
   "outputs": [
    {
     "data": {
      "text/plain": [
       "[1,\n",
       " 3,\n",
       " 4,\n",
       " 5,\n",
       " 7,\n",
       " 9,\n",
       " 11,\n",
       " 12,\n",
       " 13,\n",
       " 15,\n",
       " 17,\n",
       " 19,\n",
       " 21,\n",
       " 22,\n",
       " 23,\n",
       " 25,\n",
       " 26,\n",
       " 27,\n",
       " 28,\n",
       " 30,\n",
       " 34,\n",
       " 35,\n",
       " 36,\n",
       " 39,\n",
       " 86,\n",
       " 102]"
      ]
     },
     "execution_count": 7,
     "metadata": {},
     "output_type": "execute_result"
    }
   ],
   "source": [
    "leftList"
   ]
  },
  {
   "cell_type": "markdown",
   "id": "c4f68fd4",
   "metadata": {},
   "source": [
    "# Splitting Data"
   ]
  },
  {
   "cell_type": "code",
   "execution_count": 8,
   "id": "806f9322",
   "metadata": {},
   "outputs": [],
   "source": [
    "sizeOfChunk = int(1e6)"
   ]
  },
  {
   "cell_type": "code",
   "execution_count": 9,
   "id": "d8566e4e",
   "metadata": {},
   "outputs": [],
   "source": [
    "def getMonthYear(df):\n",
    "    df['Origination Date'] = df['Origination Date'].astype(str)\n",
    "    df['Origination Year'] = df['Origination Date']\n",
    "    df['Origination Month'] = df['Origination Date']\n",
    "    df['Origination Year'] = df['Origination Year'].map(lambda x: x[1:])\n",
    "    df['Origination Month'] = df['Origination Month'].map(lambda x: x[:1])\n",
    "    "
   ]
  },
  {
   "cell_type": "code",
   "execution_count": 13,
   "id": "2c6d7aa7",
   "metadata": {},
   "outputs": [],
   "source": [
    "for i in range(19,21):\n",
    "    for qtr in range(1, 5):\n",
    "        num=1\n",
    "        for ch in pd.read_csv(f\"local datasets/CSVs/20{i}Q{qtr}.csv\", low_memory = False, sep = \"|\", header = None, usecols = leftList, chunksize = sizeOfChunk):\n",
    "            dfPart = ch.copy()\n",
    "            dfPart.columns = header\n",
    "            # getMonthYear(dfPart)\n",
    "            dfPart = dfPart[(dfPart['Loan Purpose'] == 'P')\n",
    "                        & (dfPart['Property Type'] == 'SF')\n",
    "                        & (dfPart['Amortization Type'] == 'FRM')\n",
    "                        & (dfPart['Interest Only Loan Indicator'] == 'N') \n",
    "                        & (dfPart['High Loan to Value (HLTV) Refinance Option Indicator'] == 'N')\n",
    "                        & ((dfPart['Original Loan Term'] == 360) \n",
    "                        | (dfPart['Original Loan Term'] == 180))]\n",
    "            \n",
    "            dfPart = dfPart.drop(['Loan Purpose', 'Property Type', 'Amortization Type', 'Interest Only Loan Indicator', 'High Loan to Value (HLTV) Refinance Option Indicator'], axis = 1)\n",
    "            dfPart.to_csv(f\"datasets/20{i}/Q{qtr}/20{i}Q{qtr}_P{num}.csv\", index = False)\n",
    "            num += 1\n"
   ]
  },
  {
   "cell_type": "markdown",
   "id": "4d1ad182",
   "metadata": {},
   "source": [
    "### for 2016"
   ]
  },
  {
   "cell_type": "code",
   "execution_count": null,
   "id": "acba2f2a",
   "metadata": {},
   "outputs": [],
   "source": [
    "# i = 6 # year\n",
    "# qtr = 3 # quarter\n",
    "# num = 1\n",
    "# for ch in pd.read_csv(f\"local datasets/CSVs/201{i}Q{qtr}.csv\", low_memory = False, sep = \"|\", header = None, usecols = leftList, chunksize = sizeOfChunk):\n",
    "#     dfPart = ch.copy()\n",
    "#     dfPart.columns = header\n",
    "#     getMonthYear(dfPart)\n",
    "#     dfPart = dfPart[(dfPart['Loan Purpose'] == 'P')\n",
    "#                    & (dfPart['Property Type'] == 'SF')\n",
    "#                    & (dfPart['Amortization Type'] == 'FRM')\n",
    "#                    & (dfPart['Interest Only Loan Indicator'] == 'N') \n",
    "#                    & ((dfPart['Original Loan Term'] == 360) \n",
    "#                    | (dfPart['Original Loan Term'] == 180))\n",
    "#                    & (dfPart['High Loan to Value (HLTV) Refinance Option Indicator'] == 'N')\n",
    "#                    & (dfPart['Origination Year'] == \"2011\")\n",
    "#                    & (dfPart['Origination Month'] >= '1')\n",
    "#                    & (dfPart['Origination Month'] <= '6')]\n",
    "#     dfPart = dfPart.drop(['Loan Purpose', 'Property Type', 'Amortization Type', 'Interest Only Loan Indicator', 'High Loan to Value (HLTV) Refinance Option Indicator', 'Origination Month', 'Origination Year'], axis = 1)\n",
    "#     print(dfPart.columns)\n",
    "#     dfPart.to_csv(f\"datasets/201{i}/Q{qtr}/201{i}Q{qtr}_P{num}.csv\", index = False)\n",
    "#     num += 1\n"
   ]
  },
  {
   "cell_type": "code",
   "execution_count": null,
   "id": "7eedda90",
   "metadata": {},
   "outputs": [],
   "source": []
  }
 ],
 "metadata": {
  "kernelspec": {
   "display_name": "Python 3 (ipykernel)",
   "language": "python",
   "name": "python3"
  },
  "language_info": {
   "codemirror_mode": {
    "name": "ipython",
    "version": 3
   },
   "file_extension": ".py",
   "mimetype": "text/x-python",
   "name": "python",
   "nbconvert_exporter": "python",
   "pygments_lexer": "ipython3",
   "version": "3.9.7"
  }
 },
 "nbformat": 4,
 "nbformat_minor": 5
}
